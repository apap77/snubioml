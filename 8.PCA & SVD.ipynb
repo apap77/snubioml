{
 "cells": [
  {
   "cell_type": "markdown",
   "metadata": {},
   "source": [
    "# PCA & SVD\n",
    "\n",
    "이번 시간에는 PCA와 SVD에 대해 실습해봅시다."
   ]
  },
  {
   "cell_type": "markdown",
   "metadata": {},
   "source": [
    "## Dimensionality Reduction\n",
    "\n",
    "우리는 기껏 해야 3차원의 데이터만을 그래프 등으로 시각화하여 확인할 수 있습니다. 하지만 우리가 가진 많은 데이터들은 그보다 훨씬 큰 차원을 가지고 있지요. 이런 경우, <b>dimensionality reduction</b>이 하나의 해법이 될 수 있습니다. 데이터가 가진 특징을 최대한 유지하면서, 데이터의 차원을 줄이는 방법이지요. \n",
    "\n",
    "시각화 이외에도, dimensionality reduction이 사용되는 이유에는 여러가지가 있습니다.\n",
    "\n",
    "1. 큰 데이터셋을 보다 다루기 쉽게 만든다.\n",
    "2. 계산량을 줄인다.\n",
    "3. 데이터의 noise를 줄인다.\n",
    "4. 결과를 보다 해석하기 쉽게 만든다.\n",
    "\n",
    "Labeled, unlabeled 데이터셋에 대한 dimensionality reduction 방법이 각각 존재합니다. 여기서는 unlabeled 데이터셋에 대한 방법인 Principle Component Analysis(PCA)에 대해서 실습을 해봅시다.\n",
    "\n",
    "우리가 가진 초기의 데이터셋은 각각의 feature가 하나의 coordinate을 나타낸다고 말할 수 있을 것입니다. 즉 하나의 데이터는 각각의 축 상의 하나의 값을 가지는 N차원의 점이 되는 것이죠. \n",
    "\n",
    "PCA는 데이터를 나타내는 새로운 축을 찾습니다. 이 축을 principle component라고 합니다. 첫 번째 principle component는 데이터의 분산이 가장 커지는 축이고, 두 번째 principle component는 첫 번째 principle component와 수직이면서, 데이터의 분산이 가장 커지는 축입니다. 이렇게 데이터를 표현하는 새로운 축들을 찾아 가는 것입니다.\n",
    "\n",
    "우리가 기대하는 것은 처음 몇 개의 principle component가 매우 큰 분산을 갖도록 하여 이 몇 개만을 가지고 데이터를 잘 나타낼 수 있게 되는 겁니다.\n",
    "\n",
    "<img src=\"./img/8_1.jpg\"></img>\n",
    "\n",
    "위의 그림에서 첫 번째 principle component는 축 B, 두 번째 principle component는 축 C가 되겠죠.\n",
    "\n",
    "<img src=\"./img/8_2.jpg\"></img>\n",
    "\n",
    "위의 그림은 세 개의 class를 갖는 데이터셋입니다. 위의 그림을 봅시다. 이를 분류하는 분류기를 만들고 싶습니다. 가장 먼저 떠오르는 것은 decision tree 입니다. 예를 들어, X < 4이면 class 0 ... 이런 식으로 말이죠. 좀더 좋은 margin을 얻기 위해서 (Multi-class) SVM을 쓸 수도 있을 것 같습니다. 하지만 이 경우 hyperplane을 해석하기가 좀더 어려워지죠.\n",
    "\n",
    "PCA를 사용하면 이 문제점을 모두 해결할 수 있습니다. Decision tree와 같이 간단하면서도, SVM과 같이 좋은 margin을 갖는 분류기를 만들 수 있습니다!\n",
    "\n",
    "가장 큰 분산을 갖는 축은 어떻게 구할 수 있을까요? Eigenvalue Analysis를 이용하면 됩니다. 데이터의 covariance matrix의 eigenvalue를 감소하는 순서대로 정렬하고, 그에 상응하는 top N eigenvector를 구하면 바로 그것이 top N principle component가 되는 것입니다.\n",
    "\n",
    "기존의 데이터에 이렇게 구성된 top N eigenvector들을 곱하면 principle component들이 이루는 새로운 공간으로 transform됩니다.\n",
    "\n",
    "이제 직접 코딩을 해봅시다. 편리하게도 numpy에서는 행렬의 eigenvalue/vector를 구하는 method인 <b>numpy.linalg.eig()</b>를 제공합니다.\n",
    "\n",
    "또한 numpy.cov() method로 covariance matrix를 구할 수 있지요.\n",
    "\n",
    "Pseudocode는 다음과 같습니다.\n",
    "\n",
    "### Pseudocode\n",
    "\n",
    "각 feature들의 평균을 빼서 normalize한다.\n",
    "\n",
    "Covariance matrix를 구하고, eigenvalue와 eigenvector를 구한다.\n",
    "\n",
    "Eigenvalue를 작아지는 순서대로 정렬한다.\n",
    "\n",
    "Top N eigenvector를 취한다.\n",
    "\n",
    "Data를 Top N eigenvector들이 이루는 새로운 공간으로 transform 시킨다."
   ]
  },
  {
   "cell_type": "code",
   "execution_count": 1,
   "metadata": {
    "collapsed": true
   },
   "outputs": [],
   "source": [
    "import numpy as np\n",
    "import matplotlib.pyplot as plt\n",
    "%matplotlib inline\n",
    "\n",
    "def loadDataSet(fileName, delim=\"\\t\"):\n",
    "    fr = open(fileName)\n",
    "    stringArr = [line.strip().split(delim) for line in fr.readlines()]\n",
    "    datArr = [list(map(float, line)) for line in stringArr]\n",
    "    return np.mat(datArr)\n",
    "\n",
    "def pca(dataMat, topNfeat=9999999):\n",
    "    meanVals = np.mean(dataMat, axis=0)\n",
    "    meanRemoved = dataMat - meanVals\n",
    "    covMat = np.cov(meanRemoved, rowvar=0)\n",
    "    eigVals, eigVects = np.linalg.eig(np.mat(covMat))\n",
    "    eigValIndex = np.argsort(eigVals)[:-(topNfeat+1):-1]\n",
    "    topNEigVects = eigVects[:, eigValIndex]\n",
    "    lowDimensionDataMat = meanRemoved * topNEigVects\n",
    "    reconstructedDataMat = (lowDimensionDataMat * topNEigVects.T) + meanVals\n",
    "    return lowDimensionDataMat, reconstructedDataMat, eigVals\n"
   ]
  },
  {
   "cell_type": "code",
   "execution_count": 2,
   "metadata": {
    "collapsed": false
   },
   "outputs": [
    {
     "name": "stdout",
     "output_type": "stream",
     "text": [
      "[[ 2.85304352]\n",
      " [-1.78137485]\n",
      " [-0.07249384]\n",
      " [-0.13154076]\n",
      " [-0.60195767]]\n"
     ]
    }
   ],
   "source": [
    "# load test dataset with 2 dimensions\n",
    "myDataMat = loadDataSet(\"./datasets/pca-testSet.txt\")\n",
    "# perform pca\n",
    "lowDimensionDataMat, reconstructedDataMat, eigVals = pca(myDataMat, 1)\n",
    "\n",
    "print(lowDimensionDataMat[:5])"
   ]
  },
  {
   "cell_type": "markdown",
   "metadata": {},
   "source": [
    "2차원의 데이터셋이 1차원으로 축소되었습니다.\n",
    "\n",
    "reconstructedDataMat이 어떻게 생겼는지 확인해봅시다."
   ]
  },
  {
   "cell_type": "code",
   "execution_count": 3,
   "metadata": {
    "collapsed": false
   },
   "outputs": [
    {
     "data": {
      "image/png": "[encoded data removed]",
      "text/plain": [
       "<matplotlib.figure.Figure at 0x22eb031bcc0>"
      ]
     },
     "metadata": {},
     "output_type": "display_data"
    }
   ],
   "source": [
    "plt.scatter(myDataMat[:, 0], myDataMat[:, 1], marker=\"^\", s=90)\n",
    "plt.scatter(reconstructedDataMat[:, 0], reconstructedDataMat[:, 1], marker=\"o\", s=50, c=\"red\")\n",
    "plt.show()"
   ]
  },
  {
   "cell_type": "markdown",
   "metadata": {},
   "source": [
    "정말로 Principle component를 따라 나란하게 분포하고 있군요!"
   ]
  },
  {
   "cell_type": "markdown",
   "metadata": {},
   "source": [
    "이제 간단한 데이터셋에 대해서 PCA가 잘 작동함을 확인했습니다. 조금 복잡한 데이터셋에 PCA를 적용시켜봅시다."
   ]
  },
  {
   "cell_type": "markdown",
   "metadata": {},
   "source": [
    "## 예제: Iris Dataset\n",
    "\n",
    "<a href=\"./datasets/iris.txt\">Iris dataset</a>에 PCA를 적용시켜 봅시다.\n",
    "\n",
    "이 데이터셋은 feature가 총 4개(꽃받침 길이/폭, 꽃잎 길이/폭)여서, 단순히 시각화할 수 없습니다. 차원을 줄여야만 하죠.\n",
    "\n",
    "코딩을 해봅시다.\n",
    "\n",
    "먼저 데이터셋을 불러옵시다."
   ]
  },
  {
   "cell_type": "code",
   "execution_count": 4,
   "metadata": {
    "collapsed": false
   },
   "outputs": [
    {
     "name": "stdout",
     "output_type": "stream",
     "text": [
      "[[ 5.1  3.5  1.4  0.2]\n",
      " [ 4.9  3.   1.4  0.2]\n",
      " [ 4.7  3.2  1.3  0.2]]\n",
      "['Iris-setosa' 'Iris-setosa' 'Iris-setosa']\n"
     ]
    }
   ],
   "source": [
    "def loadIris():\n",
    "    data = []\n",
    "    label = []\n",
    "    with open(\"./datasets/iris.txt\") as inFile:\n",
    "        for line in inFile.readlines():\n",
    "            tokens = line.strip().split(\",\")  # the file is comma-separated\n",
    "            data.append([float(t) for t in tokens[:4]])  # take 4 features\n",
    "            label.append(tokens[-1])  # take label\n",
    "    return np.array(data), np.array(label)\n",
    "\n",
    "irisData, irisLabel = loadIris()\n",
    "\n",
    "print(irisData[:3])\n",
    "print(irisLabel[:3])"
   ]
  },
  {
   "cell_type": "markdown",
   "metadata": {},
   "source": [
    "PCA를 돌려봅시다."
   ]
  },
  {
   "cell_type": "code",
   "execution_count": 5,
   "metadata": {
    "collapsed": false
   },
   "outputs": [
    {
     "name": "stdout",
     "output_type": "stream",
     "text": [
      "(150, 4)\n",
      "(150, 2)\n"
     ]
    }
   ],
   "source": [
    "irisLowDimensionData, irisReconstructedData, eigVals = pca(irisData, 2)\n",
    "\n",
    "print(irisData.shape)\n",
    "print(irisLowDimensionData.shape)"
   ]
  },
  {
   "cell_type": "markdown",
   "metadata": {},
   "source": [
    "4차원의 데이터가 2차원으로 줄어들었습니다.\n",
    "\n",
    "Eigenvalue들의 값을 비교하면, top N principle component가 데이터를 얼마나 잘 설명하는지 감을 잡을 수 있습니다."
   ]
  },
  {
   "cell_type": "code",
   "execution_count": 6,
   "metadata": {
    "collapsed": false
   },
   "outputs": [
    {
     "data": {
      "image/png": "[encoded data removed]",
      "text/plain": [
       "<matplotlib.figure.Figure at 0x22eb2315a90>"
      ]
     },
     "metadata": {},
     "output_type": "display_data"
    }
   ],
   "source": [
    "plt.plot(list(range(1, 5)), list(sorted(eigVals, reverse=True)))\n",
    "plt.axis((0.5, 5, 0, 5))\n",
    "plt.xlabel(\"PC\")\n",
    "plt.ylabel(\"Variance\")\n",
    "plt.show()"
   ]
  },
  {
   "cell_type": "markdown",
   "metadata": {},
   "source": [
    "처음 2개의 principle component가 대부분의 variance를 차지하고 있군요. 2차원 그래프를 그려도 잘 그려질 것 같습니다."
   ]
  },
  {
   "cell_type": "markdown",
   "metadata": {},
   "source": [
    "차원이 줄어든 데이터셋을 그려봅시다."
   ]
  },
  {
   "cell_type": "code",
   "execution_count": 7,
   "metadata": {
    "collapsed": false
   },
   "outputs": [
    {
     "data": {
      "image/png": "[encoded data removed]",
      "text/plain": [
       "<matplotlib.figure.Figure at 0x22eb232de48>"
      ]
     },
     "metadata": {},
     "output_type": "display_data"
    }
   ],
   "source": [
    "labels = ['Iris-setosa', 'Iris-versicolor', 'Iris-virginica']\n",
    "\n",
    "for color, marker, label in zip(\"rgb\", \"o^*\", labels):\n",
    "    plt.scatter(irisLowDimensionData[irisLabel == label, 0], irisLowDimensionData[irisLabel == label, 1], marker=marker, color=color, label=label)\n",
    "\n",
    "plt.legend()\n",
    "plt.show()"
   ]
  },
  {
   "cell_type": "markdown",
   "metadata": {},
   "source": [
    "세 종이 꽤나 잘 분리되어 나타나는군요!"
   ]
  },
  {
   "cell_type": "markdown",
   "metadata": {},
   "source": [
    "## Singular Value Decomposition (SVD)\n",
    "\n",
    "음식점에는 한식집, 중식집, 일식집, 스테이크집 등 여러가지 종류가 있습니다. 어떤 요소가 음식점을 한식점으로, 혹은 중식점으로 만드는 것일까요?\n",
    "\n",
    "너무나 당연한 이야기처럼 보이겠지만, 여기서는 이러한 요소를 사람의 힘으로 직접 찾기보다 <b>데이터 자체를 학습시켜서</b> 장르를 구분짓는 요소를 학습하게 할 것입니다.\n",
    "\n",
    "데이터로는 각각의 사람이 음식점에 매긴 평점을 이용할 것입니다.\n",
    "\n",
    "이렇게 데이터로부터 숨겨진 요소(latent factor)를 추출해내는 작업은 생물정보학부터 경제학까지 여러가지 분야에 걸쳐 사용되고 있는 중요한 방법입니다.\n",
    "\n",
    "지금부터 singular value decomposition이 무엇인지, 그리고 어떻게 이 방법이 데이터의 차원을 축소하는데 사용될 수 있는지 알아볼 것입니다.\n",
    "\n",
    "<b>Recommendation system</b>에 SVD가 어떻게 이용될 수 있는지 실습해보도록 합시다."
   ]
  },
  {
   "cell_type": "markdown",
   "metadata": {},
   "source": [
    "### Recommendation system\n",
    "\n",
    "간단한 추천 시스템은 '당신과 비슷한 사람들이 선호한 것'을 추천하는 방식을 취합니다. 하지만 보다 발전된 추천 시스템은 당신과 비슷한 사람들이 <b>왜 그것을 선호하는지</b> 숨겨진 요소를 추출하여 그와 비슷한 것을 추천하게 됩니다. 아래의 행렬을 봅시다.\n",
    "\n",
    "<img src=\"./img/8_3.jpg\"></img>\n",
    "\n",
    "이것은 7명의 사람들(행)이 5개의 음식점(열)에 대해 평점(0~5)을 매긴 행렬입니다. 방법은 추후에 설명하겠지만, 이 행렬에 대해서 SVD를 수행하면 2개의 singular value가 추출됩니다. 즉, 데이터를 2차원의 숨겨진 요소들로 표현할 수 있다는 것이죠. 각각의 차원은 '일식', '바베큐' 정도를 나타내는 차원이 되겠네요!\n",
    "\n",
    "numpy.linalg.svd() 메소드를 이용하면 간단하게 SVD를 수행할 수 있습니다. 참 쉽죠?"
   ]
  },
  {
   "cell_type": "code",
   "execution_count": 8,
   "metadata": {
    "collapsed": false
   },
   "outputs": [
    {
     "name": "stdout",
     "output_type": "stream",
     "text": [
      "[  9.64365076e+00   5.29150262e+00   6.51609210e-16   2.14818942e-16\n",
      "   5.18511491e-17]\n"
     ]
    }
   ],
   "source": [
    "def loadExampleData1():\n",
    "    return [[0, 0, 0, 2, 2],\n",
    "               [0, 0, 0, 3, 3], \n",
    "               [0, 0, 0, 1, 1], \n",
    "               [1, 1, 1, 0, 0],\n",
    "               [2, 2, 2, 0, 0],\n",
    "               [5, 5, 5, 0, 0],\n",
    "               [1, 1, 1, 0, 0]]\n",
    "\n",
    "# run svd\n",
    "U, sigma, Vt = np.linalg.svd(loadExampleData1())\n",
    "# print singular values\n",
    "print(sigma)\n"
   ]
  },
  {
   "cell_type": "markdown",
   "metadata": {},
   "source": [
    "역시 2개의 singular value만이 0이 아닌 값을 가지는 것을 확인할 수 있습니다."
   ]
  },
  {
   "cell_type": "code",
   "execution_count": 9,
   "metadata": {
    "collapsed": false
   },
   "outputs": [
    {
     "name": "stdout",
     "output_type": "stream",
     "text": [
      "[  9.72140007e+00   5.29397912e+00   6.84226362e-01   8.40909475e-16\n",
      "   5.38396347e-17]\n"
     ]
    }
   ],
   "source": [
    "def loadExampleData2():\n",
    "        return [[1, 1, 0, 2, 2],\n",
    "               [0, 0, 0, 3, 3], \n",
    "               [0, 0, 0, 1, 1], \n",
    "               [1, 1, 1, 0, 0],\n",
    "               [2, 2, 2, 0, 0],\n",
    "               [5, 5, 5, 0, 0],\n",
    "               [1, 1, 1, 0, 0]]\n",
    "    \n",
    "# run svd\n",
    "U, sigma, Vt = np.linalg.svd(loadExampleData2())\n",
    "# print singular values\n",
    "print(sigma)"
   ]
  },
  {
   "cell_type": "markdown",
   "metadata": {},
   "source": [
    "이번엔 총 3개의 singular value만 취하면 되겠군요. 한번 3개의 singular value만으로 데이터셋을 reconstruction할 수 있는지 확인해봅시다."
   ]
  },
  {
   "cell_type": "code",
   "execution_count": 10,
   "metadata": {
    "collapsed": false
   },
   "outputs": [
    {
     "name": "stdout",
     "output_type": "stream",
     "text": [
      "1.00 1.00 0.00 2.00 2.00 \n",
      "0.00 0.00 -0.00 3.00 3.00 \n",
      "0.00 0.00 -0.00 1.00 1.00 \n",
      "1.00 1.00 1.00 0.00 0.00 \n",
      "2.00 2.00 2.00 -0.00 -0.00 \n",
      "5.00 5.00 5.00 0.00 0.00 \n",
      "1.00 1.00 1.00 -0.00 -0.00 \n"
     ]
    }
   ],
   "source": [
    "reconstructed = U[:, :3] * np.mat(np.diag(sigma[:3])) * Vt[:3, :]\n",
    "for i in range(7):\n",
    "    for j in range(5):\n",
    "        print(\"%.2f \" % reconstructed[i, j], end=\"\")\n",
    "    print()"
   ]
  },
  {
   "cell_type": "markdown",
   "metadata": {},
   "source": [
    "놀랍군요! 원래 데이터셋을 정확하게 복원해냈습니다.\n",
    "\n",
    "보통 singular value들의 제곱합의 90%가 넘는 singular value들을 취하면 원래의 데이터셋을 꽤 잘 복원시킨다고 합니다.\n"
   ]
  },
  {
   "cell_type": "markdown",
   "metadata": {},
   "source": [
    "### Collaborative filtering\n",
    "\n",
    "Recommendation을 위한 수많은 방법이 있지만, 여기서는 collaborative filtering에 대해 다루어 봅시다.\n",
    "\n",
    "아까 다루었던 matrix가 있다고 생각합시다. 이때, 이때 각 행은 사람을 나타내며 각 열은 영화를 나타낸다고 합시다.\n",
    "\n",
    "그러면 행 벡터와 열 벡터를 이용하여 사람 간, 혹은 영화 간의 similarity를 측정할 수 있습니다.\n",
    "\n",
    "특정 사람 A가 보지 않은 영화가 주어집니다. 이 영화와 A가 본 영화간의 유사도가 높다면, A가 새로 주어진 영화를 보고싶어 할 것이라고 생각할 수 있습니다.\n",
    "\n",
    "이렇게 User 혹은 Item간의 similarity를 측정하여 추천하는 방법을 collaborative filtering이라고 합니다.\n",
    "\n",
    "그렇다면 두 벡터간의 similarity를 어떻게 측정할 수 있을까요?\n",
    "\n",
    "3가지 방법이 있습니다.\n",
    "\n",
    "1. Euclidian distance를 이용하는 방법<br/>\n",
    "\n",
    "    $ \\frac{1}{1 + \\text{Euclidian distance}} $\n",
    "    \n",
    "2. Cosine distance를 이용하는 방법<br/>\n",
    "\n",
    "    $ cos\\theta = \\frac{A \\cdot B}{||A||||B||} $\n",
    "    \n",
    "3. Pearson correlation을 이용하는 방법<br/>\n",
    "\n",
    "각각의 similarity measure들을 함수로 작성합시다."
   ]
  },
  {
   "cell_type": "code",
   "execution_count": 11,
   "metadata": {
    "collapsed": true
   },
   "outputs": [],
   "source": [
    "def eucSim(x, y):\n",
    "    return 1 / (1 + np.linalg.norm(x - y))\n",
    "\n",
    "def pearsSim(x, y):\n",
    "    if len(x) < 3:\n",
    "        return 1.0\n",
    "    return 0.5 + 0.5 * np.corrcoef(x, y, rowvar=0)[0][1]\n",
    "\n",
    "def cosSim(x, y):\n",
    "    num = float(x.T * y)\n",
    "    denom = np.linalg.norm(x) * np.linalg.norm(y)\n",
    "    return 0.5 + 0.5 * (num / denom)\n"
   ]
  },
  {
   "cell_type": "code",
   "execution_count": 12,
   "metadata": {
    "collapsed": false
   },
   "outputs": [
    {
     "name": "stdout",
     "output_type": "stream",
     "text": [
      "[[1 1 0 2 2]\n",
      " [0 0 0 3 3]\n",
      " [0 0 0 1 1]\n",
      " [1 1 1 0 0]\n",
      " [2 2 2 0 0]\n",
      " [5 5 5 0 0]\n",
      " [1 1 1 0 0]]\n",
      "\n",
      "0.1336766024\n",
      "1.0\n",
      "\n",
      "0.547245559126\n",
      "1.0\n",
      "\n",
      "0.237686194076\n",
      "1.0\n"
     ]
    }
   ],
   "source": [
    "myMat = np.mat(loadExampleData2())\n",
    "print(myMat)\n",
    "\n",
    "print()\n",
    "print(eucSim(myMat[:, 0], myMat[:, 4]))\n",
    "print(eucSim(myMat[:, 0], myMat[:, 0]))\n",
    "\n",
    "print()\n",
    "print(cosSim(myMat[:, 0], myMat[:, 4]))\n",
    "print(cosSim(myMat[:, 0], myMat[:, 0]))\n",
    "\n",
    "print()\n",
    "print(pearsSim(myMat[:, 0], myMat[:, 4]))\n",
    "print(pearsSim(myMat[:, 0], myMat[:, 0]))"
   ]
  },
  {
   "cell_type": "markdown",
   "metadata": {},
   "source": [
    "### 예제: 음식점 추천기\n",
    "\n",
    "먼저 가장 기본적인 추천기를 만들어 봅시다. 그 후에 SVD를 적용시켜서 보다 발전된 추천기를 만들 것입니다.\n",
    "\n",
    "기본적인 추천기는 다음과 같이 작동합니다.\n",
    "\n",
    "1. User가 평점을 매기지 않은 item을 찾는다. (user-item matrix에서 0들을 찾는다.)\n",
    "\n",
    "2. 평점을 아직 매기지 않은 item에 대해서, 해당 user가 줄 것으로 예상되는 평점을 계산한다. (similarity를 가중치로 이용하여 평균을 낸다.)\n",
    "\n",
    "3. 평점이 작아지는 순서대로 정렬하여, top N item들을 출력한다."
   ]
  },
  {
   "cell_type": "markdown",
   "metadata": {},
   "source": [
    "먼저 예상되는 평점을 계산하는 basicEst() 함수를 작성합시다."
   ]
  },
  {
   "cell_type": "code",
   "execution_count": 13,
   "metadata": {
    "collapsed": true
   },
   "outputs": [],
   "source": [
    "def basicEst(dataMat, user, simMeasure, item):\n",
    "    n = dataMat.shape[1]\n",
    "    simTotal = 0.0\n",
    "    ratSimTotal = 0.0\n",
    "    \n",
    "    for j in range(n):\n",
    "        userRating = dataMat[user, j]\n",
    "        if userRating == 0:\n",
    "            continue\n",
    "        overLap = np.nonzero(np.logical_and(dataMat[:, item].A > 0, dataMat[:, j].A > 0))[0]\n",
    "        if len(overLap) == 0:\n",
    "            similarity = 0\n",
    "        else:\n",
    "            similarity = simMeasure(dataMat[overLap, item], dataMat[overLap, j])\n",
    "        \n",
    "        simTotal += similarity\n",
    "        ratSimTotal += similarity * userRating\n",
    "    if simTotal == 0:\n",
    "        return 0\n",
    "    else:\n",
    "        return ratSimTotal / simTotal"
   ]
  },
  {
   "cell_type": "markdown",
   "metadata": {},
   "source": [
    "이제 추천하는 함수 recommend()를 작성합시다."
   ]
  },
  {
   "cell_type": "code",
   "execution_count": 14,
   "metadata": {
    "collapsed": true
   },
   "outputs": [],
   "source": [
    "def recommend(dataMat, user, N=3, simMeasure=cosSim, estMethod=basicEst):\n",
    "    unratedItems = np.nonzero(dataMat[user, :].A == 0)[1]\n",
    "    if len(unratedItems) == 0:\n",
    "        print(\"You rated everything\")\n",
    "    itemScores = []\n",
    "    for item in unratedItems:\n",
    "        estimatedScore = estMethod(dataMat, user, simMeasure, item)\n",
    "        itemScores.append((item, estimatedScore))\n",
    "    \n",
    "    return list(sorted(itemScores, key=lambda x: x[1], reverse=True))"
   ]
  },
  {
   "cell_type": "markdown",
   "metadata": {},
   "source": [
    "테스트 해봅시다."
   ]
  },
  {
   "cell_type": "code",
   "execution_count": 15,
   "metadata": {
    "collapsed": false
   },
   "outputs": [
    {
     "name": "stdout",
     "output_type": "stream",
     "text": [
      "[[4 4 0 2 2]\n",
      " [4 0 0 3 3]\n",
      " [4 0 0 1 1]\n",
      " [1 1 1 2 0]\n",
      " [2 2 2 0 0]\n",
      " [5 5 5 0 0]\n",
      " [1 1 1 0 0]]\n",
      "\n",
      "[(2, 2.5), (1, 2.0243290220056256)]\n"
     ]
    }
   ],
   "source": [
    "myMat = np.mat(loadExampleData2())\n",
    "\n",
    "# modify my matrix\n",
    "myMat[0, 1] = myMat[0, 0] = myMat[1, 0] = myMat[2, 0] = 4\n",
    "myMat[3, 3] = 2\n",
    "\n",
    "print(myMat)\n",
    "\n",
    "print()\n",
    "print(recommend(myMat, 2))"
   ]
  },
  {
   "cell_type": "markdown",
   "metadata": {},
   "source": [
    "### Improving recommendations with SVD\n",
    "\n",
    "기본적인 추천기를 만들었습니다. 이제 SVD를 적용시켜서 개선시켜봅시다.\n",
    "\n",
    "이를 위해서 보다 현실적인 데이터셋이 필요합니다."
   ]
  },
  {
   "cell_type": "code",
   "execution_count": 16,
   "metadata": {
    "collapsed": true
   },
   "outputs": [],
   "source": [
    "def loadExampleData3():\n",
    "    return[[0, 0, 0, 0, 0, 4, 0, 0, 0, 0, 5],\n",
    "           [0, 0, 0, 3, 0, 4, 0, 0, 0, 0, 3],\n",
    "           [0, 0, 0, 0, 4, 0, 0, 1, 0, 4, 0],\n",
    "           [3, 3, 4, 0, 0, 0, 0, 2, 2, 0, 0],\n",
    "           [5, 4, 5, 0, 0, 0, 0, 5, 5, 0, 0],\n",
    "           [0, 0, 0, 0, 5, 0, 1, 0, 0, 5, 0],\n",
    "           [4, 3, 4, 0, 0, 0, 0, 5, 5, 0, 1],\n",
    "           [0, 0, 0, 4, 0, 4, 0, 0, 0, 0, 4],\n",
    "           [0, 0, 0, 2, 0, 2, 5, 0, 0, 1, 2],\n",
    "           [0, 0, 0, 0, 5, 0, 0, 0, 0, 4, 0],\n",
    "           [1, 0, 0, 0, 0, 0, 0, 1, 2, 0, 0]]"
   ]
  },
  {
   "cell_type": "markdown",
   "metadata": {},
   "source": [
    "이 데이터에 대해서 SVD를 적용시켜볼까요?"
   ]
  },
  {
   "cell_type": "code",
   "execution_count": 17,
   "metadata": {
    "collapsed": false
   },
   "outputs": [
    {
     "name": "stdout",
     "output_type": "stream",
     "text": [
      "[ 15.77075346  11.40670395  11.03044558   4.84639758   3.09292055\n",
      "   2.58097379   1.00413543   0.72817072   0.43800353   0.22082113\n",
      "   0.07367823]\n"
     ]
    }
   ],
   "source": [
    "myMat = np.mat(loadExampleData3())\n",
    "\n",
    "U, sigma, Vt = np.linalg.svd(myMat)\n",
    "\n",
    "print(sigma)"
   ]
  },
  {
   "cell_type": "markdown",
   "metadata": {},
   "source": [
    "Sigma를 몇개를 취해야 제곱합의 90%를 차지하게 할 수 있을까요?"
   ]
  },
  {
   "cell_type": "code",
   "execution_count": 18,
   "metadata": {
    "collapsed": false
   },
   "outputs": [
    {
     "name": "stdout",
     "output_type": "stream",
     "text": [
      "3 singular values will do\n"
     ]
    }
   ],
   "source": [
    "sigmaSquared = sigma ** 2\n",
    "\n",
    "squareSum = sum(sigmaSquared)\n",
    "\n",
    "for i in range(sigma.shape[0]):\n",
    "    if sum(sigmaSquared[:i]) > squareSum * 0.9:\n",
    "        print(\"%d singular values will do\" % i)\n",
    "        break"
   ]
  },
  {
   "cell_type": "markdown",
   "metadata": {},
   "source": [
    "이제 svd를 이용하여 rating을 estimate하는 함수 svdEst를 작성합시다."
   ]
  },
  {
   "cell_type": "code",
   "execution_count": 19,
   "metadata": {
    "collapsed": true
   },
   "outputs": [],
   "source": [
    "def svdEst(dataMat, user, simMeasure, item):\n",
    "    n = dataMat.shape[1]\n",
    "    simTotal = 0.0\n",
    "    ratSimTotal = 0.0\n",
    "    \n",
    "    # perform svd to reduce dimension to 3\n",
    "    U, sigma, Vt = np.linalg.svd(dataMat)\n",
    "    transformedItems = Vt.T[:, :3]\n",
    "    \n",
    "    for j in range(n):\n",
    "        userRating = dataMat[user, j]\n",
    "        if userRating == 0.0 or j == item:\n",
    "            continue\n",
    "        similarity = simMeasure(transformedItems[item, :].T, transformedItems[j, :].T)\n",
    "        print(\"the %d and %d similarity is: %f\" % (item, j, similarity))\n",
    "        \n",
    "        simTotal += similarity\n",
    "        ratSimTotal += similarity * userRating\n",
    "    # ENDFOR\n",
    "    if simTotal == 0:\n",
    "        return 0\n",
    "    else:\n",
    "        return ratSimTotal / simTotal\n",
    "    "
   ]
  },
  {
   "cell_type": "code",
   "execution_count": 20,
   "metadata": {
    "collapsed": false
   },
   "outputs": [
    {
     "name": "stdout",
     "output_type": "stream",
     "text": [
      "[[0 0 0 0 0 4 0 0 0 0 5]\n",
      " [0 0 0 3 0 4 0 0 0 0 3]\n",
      " [0 0 0 0 4 0 0 1 0 4 0]\n",
      " [3 3 4 0 0 0 0 2 2 0 0]\n",
      " [5 4 5 0 0 0 0 5 5 0 0]\n",
      " [0 0 0 0 5 0 1 0 0 5 0]\n",
      " [4 3 4 0 0 0 0 5 5 0 1]\n",
      " [0 0 0 4 0 4 0 0 0 0 4]\n",
      " [0 0 0 2 0 2 5 0 0 1 2]\n",
      " [0 0 0 0 5 0 0 0 0 4 0]\n",
      " [1 0 0 0 0 0 0 1 2 0 0]]\n",
      "the 0 and 3 similarity is: 0.019549\n",
      "the 0 and 5 similarity is: 0.015746\n",
      "the 0 and 10 similarity is: 0.018862\n",
      "the 1 and 3 similarity is: 0.019363\n",
      "the 1 and 5 similarity is: 0.015579\n",
      "the 1 and 10 similarity is: 0.018680\n",
      "the 2 and 3 similarity is: 0.019381\n",
      "the 2 and 5 similarity is: 0.015595\n",
      "the 2 and 10 similarity is: 0.018697\n",
      "the 4 and 3 similarity is: 0.597651\n",
      "the 4 and 5 similarity is: 0.583430\n",
      "the 4 and 10 similarity is: 0.595198\n",
      "the 6 and 3 similarity is: 0.887994\n",
      "the 6 and 5 similarity is: 0.878712\n",
      "the 6 and 10 similarity is: 0.886412\n",
      "the 7 and 3 similarity is: 0.038693\n",
      "the 7 and 5 similarity is: 0.033309\n",
      "the 7 and 10 similarity is: 0.037735\n",
      "the 8 and 3 similarity is: 0.019926\n",
      "the 8 and 5 similarity is: 0.016085\n",
      "the 8 and 10 similarity is: 0.019233\n",
      "the 9 and 3 similarity is: 0.611113\n",
      "the 9 and 5 similarity is: 0.596969\n",
      "the 9 and 10 similarity is: 0.608674\n"
     ]
    },
    {
     "data": {
      "text/plain": [
       "[(6, 3.3311997297614169),\n",
       " (9, 3.3285908265560447),\n",
       " (4, 3.3284563489329733),\n",
       " (7, 3.3035360373432208),\n",
       " (8, 3.2911703882737422),\n",
       " (0, 3.2907496020044729),\n",
       " (2, 3.2905582522897352),\n",
       " (1, 3.2905375165766362)]"
      ]
     },
     "execution_count": 20,
     "metadata": {},
     "output_type": "execute_result"
    }
   ],
   "source": [
    "print(myMat)\n",
    "recommend(myMat, 1, estMethod=svdEst, simMeasure=pearsSim)"
   ]
  },
  {
   "cell_type": "markdown",
   "metadata": {},
   "source": [
    "### 예제: SVD를 이용한 이미지 압축\n",
    "\n",
    "재미있는 예제입니다. SVD를 이용하여 이미지를 압축할 수 있습니다. 우리가 다루어봤던 손글씨 숫자 예제는 32 * 32의 총 1024픽셀 이미지였습니다.\n",
    "\n",
    "이미지가 이보다 적은 용량을 차지하게 하면서, 원래의 이미지를 복원해낼 수 있을까요?"
   ]
  },
  {
   "cell_type": "code",
   "execution_count": 21,
   "metadata": {
    "collapsed": false
   },
   "outputs": [
    {
     "data": {
      "image/png": "[encoded data removed]",
      "text/plain": [
       "<matplotlib.figure.Figure at 0x22eb232f470>"
      ]
     },
     "metadata": {},
     "output_type": "display_data"
    }
   ],
   "source": [
    "def getDigit(filePath):\n",
    "    rows = []\n",
    "    for line in open(filePath).readlines():\n",
    "        row = []\n",
    "        for i in range(32):\n",
    "            row.append(int(line[i]))\n",
    "        rows.append(row)\n",
    "    digitMat = np.mat(rows)\n",
    "    return digitMat\n",
    "\n",
    "def thresholdMatrix(matrix, threshold=0.8):\n",
    "    copyMat = matrix.copy()\n",
    "    # threshold matrix\n",
    "    copyMat[copyMat >= threshold] = 1\n",
    "    copyMat[copyMat < threshold] = 0\n",
    "    return copyMat\n",
    "\n",
    "def show(matrix, fig=plt, threshold=0.8):\n",
    "    thresholded = thresholdMatrix(matrix, threshold=threshold)\n",
    "    fig.axis('off')\n",
    "    fig.imshow(thresholded, interpolation='none', cmap='gray')\n",
    "\n",
    "def imgCompress(dirPath, numSV=3, thresh=0.8):\n",
    "    \n",
    "    for i in range(10):\n",
    "        origDigit = getDigit(dirPath + \"%d_0.txt\" % i)\n",
    "        plt.subplot(2, 10, i+1)\n",
    "        # show original digit\n",
    "        show(origDigit)\n",
    "        # perform svd\n",
    "        U, sigma, Vt = np.linalg.svd(origDigit)\n",
    "        reconstructedDigit = U[:, :numSV] * np.mat(np.diag(sigma[:numSV])) * Vt[:numSV, :]\n",
    "        plt.subplot(2, 10, i+11)\n",
    "        # show reconstructed digit\n",
    "        show(reconstructedDigit)\n",
    "\n",
    "imgCompress(\"./datasets/digits/trainingDigits/\", numSV=4)"
   ]
  },
  {
   "cell_type": "markdown",
   "metadata": {},
   "source": [
    "### 예제: Latent space에 손글씨 mapping하기\n",
    "\n",
    "위의 예제에서 1024차원의 손글씨 숫자가 4개의 singular value만으로 꽤나 잘 표현됨을 확인해 보았습니다.\n",
    "\n",
    "마지막으로 손글씨를 2차원으로 차원 축소한뒤, 이를 그려보는 것으로 실습을 마치겠습니다."
   ]
  },
  {
   "cell_type": "code",
   "execution_count": 22,
   "metadata": {
    "collapsed": false
   },
   "outputs": [
    {
     "data": {
      "image/png": "[encoded data removed]",
      "text/plain": [
       "<matplotlib.figure.Figure at 0x22eb2541be0>"
      ]
     },
     "metadata": {},
     "output_type": "display_data"
    }
   ],
   "source": [
    "def getDigitVector(filePath):\n",
    "    vec = []\n",
    "    for line in open(filePath).readlines():\n",
    "        for i in range(32):\n",
    "            vec.append(int(line[i]))\n",
    "    return np.array(vec)\n",
    "\n",
    "def makeDigitMatrix(dirPath):\n",
    "    digitMat = []\n",
    "    for digit in range(10):\n",
    "        for i in range(10):\n",
    "            digitMat.append(getDigitVector(dirPath + \"%d_%d.txt\" % (digit, i)))\n",
    "    return np.array(digitMat)\n",
    "\n",
    "digitMat = makeDigitMatrix(\"./datasets/digits/trainingDigits/\")\n",
    "U, sigma, Vt = np.linalg.svd(digitMat)\n",
    "\n",
    "latentFeatures = U[:, :2]\n",
    "for i in range(10):\n",
    "    start = i * 10\n",
    "    end = (i+1) * 10\n",
    "    plt.plot(latentFeatures[start:end, 0], latentFeatures[start:end, 1], marker=\"$\"+str(i)+\"$\", markersize=10, linestyle='None')\n",
    "    \n",
    "plt.show()"
   ]
  },
  {
   "cell_type": "markdown",
   "metadata": {},
   "source": [
    "0과 6, 혹은 4, 7, 9와 같이 비슷한 숫자들이 비슷한 위치에 나타나는 것을 확인할 수 있습니다."
   ]
  }
 ],
 "metadata": {
  "kernelspec": {
   "display_name": "Python 3",
   "language": "python",
   "name": "python3"
  },
  "language_info": {
   "codemirror_mode": {
    "name": "ipython",
    "version": 3
   },
   "file_extension": ".py",
   "mimetype": "text/x-python",
   "name": "python",
   "nbconvert_exporter": "python",
   "pygments_lexer": "ipython3",
   "version": "3.5.1"
  }
 },
 "nbformat": 4,
 "nbformat_minor": 0
}
