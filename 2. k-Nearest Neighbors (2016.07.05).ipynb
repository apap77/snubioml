{
 "cells": [
  {
   "cell_type": "markdown",
   "metadata": {},
   "source": [
    "# 2. k-Nearest Neighbors (kNN)\n",
    "이번 시간에는 kNN 알고리즘에 대해 실습해 봅시다."
   ]
  },
  {
   "cell_type": "markdown",
   "metadata": {},
   "source": [
    "가장 먼저, 필요한 모듈들을 import 합시다."
   ]
  },
  {
   "cell_type": "code",
   "execution_count": 1,
   "metadata": {
    "collapsed": true
   },
   "outputs": [],
   "source": [
    "#ignore this\n",
    "%matplotlib inline\n",
    "\n",
    "import numpy as np\n",
    "import matplotlib.pyplot as plt\n",
    "import operator"
   ]
  },
  {
   "cell_type": "markdown",
   "metadata": {},
   "source": [
    "## 데이터셋 다루기\n",
    "간단한 데이터셋을 만드는 함수를 작성합니다."
   ]
  },
  {
   "cell_type": "code",
   "execution_count": 2,
   "metadata": {
    "collapsed": false
   },
   "outputs": [],
   "source": [
    "def createDataSet():\n",
    "    group = np.array([[1.0, 1.1], [1.0, 1.0], [0, 0], [0, 0.1]])\n",
    "    labels = ['A', 'A', 'B', 'B']\n",
    "    \n",
    "    return group, labels\n",
    "\n",
    "group, labels = createDataSet()"
   ]
  },
  {
   "cell_type": "markdown",
   "metadata": {},
   "source": [
    "데이터셋이 어떻게 생겼을까요?"
   ]
  },
  {
   "cell_type": "code",
   "execution_count": 3,
   "metadata": {
    "collapsed": false
   },
   "outputs": [
    {
     "data": {
      "image/png": "[encoded data removed]",
      "text/plain": [
       "<matplotlib.figure.Figure at 0x21559b124e0>"
      ]
     },
     "metadata": {},
     "output_type": "display_data"
    }
   ],
   "source": [
    "x = group[:, 0]\n",
    "y = group[:, 1]\n",
    "\n",
    "plt.scatter(x, y)\n",
    "\n",
    "# margin for labels\n",
    "margin = 0.05\n",
    "# annotate each of the points\n",
    "for i, label in enumerate(labels):\n",
    "    plt.annotate(label, (x[i] - margin, y[i]))\n",
    "\n",
    "plt.show()"
   ]
  },
  {
   "cell_type": "markdown",
   "metadata": {},
   "source": [
    "위와 같이, 우리가 다루게 될 데이터셋은 각 점들의 좌표를 나타내는 <b>벡터</b>와 각각에 해당하는 <b>라벨</b>들로 구성되어 있습니다."
   ]
  },
  {
   "cell_type": "markdown",
   "metadata": {},
   "source": [
    "## kNN 알고리즘 구현\n",
    "Pseudocode는 아래와 같습니다.\n",
    "\n",
    "<i>\n",
    "1. 데이터셋의 각 점 <b>P</b>에 대해서:<br/>\n",
    "    Classify하고자 하는 입력 벡터 (<b>inX</b>)와 P 사이의 거리를 구합니다.\n",
    "\n",
    "2. 구한 거리들을 오름차순으로 정렬합니다.\n",
    "3. 거리가 가장 작은 k개의 점들을 취합니다.\n",
    "4. 각 점의 label은 우리가 이미 알고 있으므로, 취한 k개의 점들 중 어떤 label이 가장 많은지 알 수 있습니다.\n",
    "5. 가장 많은 label을 return합니다.\n",
    "</i>\n",
    "\n",
    "간단하죠?"
   ]
  },
  {
   "cell_type": "markdown",
   "metadata": {},
   "source": [
    "실제로 구현해봅시다."
   ]
  },
  {
   "cell_type": "code",
   "execution_count": 4,
   "metadata": {
    "collapsed": true
   },
   "outputs": [],
   "source": [
    "def classify0(inX, dataSet, labels, k):\n",
    "    # 1. 데이터셋의 각 점 P 에 대해서 inX와 P 사이의 거리를 구합니다.\n",
    "    \n",
    "    dataSetSize = dataSet.shape[0] # dataSet의 각각의 행은 하나의 점을 나타냅니다. 따라서 행의 개수는 점의 개수와 같습니다.\n",
    "    \n",
    "    # np.tile(vec, shape) 함수는 타일을 붙이듯이 vec을 붙여넣는 함수입니다. shape가 (n, m) 꼴이라고 하면,\n",
    "    # vec을 세로로 n번, 가로로 m번 복사-붙여넣기 하여 만들어진 2차원 array를 return합니다.\n",
    "    # 그러면 np.tile(inX, (dataSetSize, 1))은 inX를 세로로 dataSetSize만큼 복사-붙여넣기 한 2차원 array가 됩니다.\n",
    "    diffMat = np.tile(inX, (dataSetSize, 1)) - dataSet\n",
    "    sqDiffMat = diffMat ** 2\n",
    "    \n",
    "    sqDistances = sqDiffMat.sum(axis=1) # axis = 1은, 행 방향으로 sum을 구하겠다는 의미입니다.\n",
    "    distances = sqDistances ** 0.5\n",
    "    \n",
    "    # 2. 구한 거리들을 오름차순으로 정렬합니다.\n",
    "    sortedDistIndices = distances.argsort() \n",
    "    \n",
    "    # 3~5. 거리가 가장 작은 k개의 점들에 대해서 가장 많은 label을 return합니다.\n",
    "    \n",
    "    classCount = {} # 각 label에 대한 vote 수가 저장될 dictionary {label1:vote1, label2:vote2, ....}\n",
    "    for i in range(k):\n",
    "        voteIlabel = labels[sortedDistIndices[i]] # 이 점의 label을 구해서\n",
    "        classCount[voteIlabel] = classCount.get(voteIlabel, 0) + 1 # dictionary에 1을 더합니다.\n",
    "        \n",
    "    # classCount.items() : dictionary의 각 key, value들을 [(k1, v1), (k2, v2), (k3, v3), ...] 형태로 반환합니다.\n",
    "    # 주의 : python2에서는 .iteritems()였던 것이 python3에 오면서 .items()로 바뀌었습니다.\n",
    "    # operator.itemgetter(1) : tuple이나 list가 argument로 주어지면 index 1의 요소를 반환하는 함수입니다.\n",
    "    # reverse = True : 내림차순으로 정렬합니다. default는 reverse=False로, 오름차순 정렬입니다.\n",
    "    sortedClassCount = sorted(classCount.items(), key=operator.itemgetter(1), reverse=True)\n",
    "    \n",
    "    # sortedClassCount[0] 은 가장 vote 수가 많은 label을 (label, vote) 형태로 나타낸 tuple입니다.\n",
    "    # 따라서 sortedClassCount[0][0] 은 가장 vote 수가 많은 label을 반환합니다.\n",
    "    return sortedClassCount[0][0]"
   ]
  },
  {
   "cell_type": "markdown",
   "metadata": {},
   "source": [
    "간단하게 테스트 해봅시다. 아까 우리의 데이터셋을 다시 봅시다."
   ]
  },
  {
   "cell_type": "code",
   "execution_count": 5,
   "metadata": {
    "collapsed": false
   },
   "outputs": [
    {
     "name": "stdout",
     "output_type": "stream",
     "text": [
      "[[ 1.   1.1]\n",
      " [ 1.   1. ]\n",
      " [ 0.   0. ]\n",
      " [ 0.   0.1]]\n",
      "['A', 'A', 'B', 'B']\n"
     ]
    }
   ],
   "source": [
    "print(group)\n",
    "print(labels)"
   ]
  },
  {
   "cell_type": "code",
   "execution_count": 6,
   "metadata": {
    "collapsed": false
   },
   "outputs": [
    {
     "name": "stdout",
     "output_type": "stream",
     "text": [
      "Your input (0.20, 0.00) is classified as B\n"
     ]
    }
   ],
   "source": [
    "# want my input to be classified as B\n",
    "myInput = np.array([0.2, 0.0])\n",
    "\n",
    "print(\"Your input (%.2f, %.2f) is classified as %s\" % (myInput[0], myInput[1], classify0(myInput, group, labels, 2)))"
   ]
  },
  {
   "cell_type": "markdown",
   "metadata": {},
   "source": [
    "자유롭게 테스트해보세요."
   ]
  },
  {
   "cell_type": "code",
   "execution_count": 7,
   "metadata": {
    "collapsed": false
   },
   "outputs": [
    {
     "name": "stdout",
     "output_type": "stream",
     "text": [
      "x = 1.0\n",
      "y = 0.5\n",
      "Your input (1.00, 0.50) is classified as A\n"
     ]
    },
    {
     "data": {
      "image/png": "[encoded data removed]",
      "text/plain": [
       "<matplotlib.figure.Figure at 0x21559c58518>"
      ]
     },
     "metadata": {},
     "output_type": "display_data"
    }
   ],
   "source": [
    "myX = eval(input(\"x = \"))\n",
    "myY = eval(input(\"y = \"))\n",
    "myClass = classify0(np.array([myX, myY]), group, labels, 2)\n",
    "print(\"Your input (%.2f, %.2f) is classified as %s\" % (myX, myY, myClass))\n",
    "\n",
    "x = group[:, 0]\n",
    "y = group[:, 1]\n",
    "\n",
    "plt.scatter(x, y)\n",
    "\n",
    "# margin for labels\n",
    "margin = 0.05\n",
    "# annotate each of the points\n",
    "for i, label in enumerate(labels):\n",
    "    plt.annotate(label, (x[i] - margin, y[i]))\n",
    "\n",
    "plt.scatter(myX, myY, marker=\"x\", color=\"r\")\n",
    "plt.annotate( myClass, (myX - margin, myY))\n",
    "plt.show()"
   ]
  },
  {
   "cell_type": "markdown",
   "metadata": {},
   "source": [
    "어디를 경계로 class가 나누어지는지 궁금해집니다."
   ]
  },
  {
   "cell_type": "code",
   "execution_count": 8,
   "metadata": {
    "collapsed": false
   },
   "outputs": [
    {
     "data": {
      "image/png": "[encoded data removed]",
      "text/plain": [
       "<matplotlib.figure.Figure at 0x2155a498978>"
      ]
     },
     "metadata": {},
     "output_type": "display_data"
    }
   ],
   "source": [
    "# plot settings\n",
    "xMin = -0.5\n",
    "xMax = 1.5\n",
    "yMin = -0.5\n",
    "yMax = 1.5\n",
    "space = 0.1 # DO NOT CHANGE THIS\n",
    "colorDic = {\"A\":\"red\", \"B\":\"blue\"} # 'A' points in red, 'B' points in blue\n",
    "\n",
    "# generate points to classify\n",
    "points = [np.array([x, y]) for x in np.arange(xMin, xMax, space) for y in np.arange(yMin, yMax, space)]\n",
    "\n",
    "# classify each of the points\n",
    "pointLabels = [classify0(point, group, labels, 2) for point in points]\n",
    "\n",
    "for i, point in enumerate(points):\n",
    "    plt.scatter(point[0], point[1], color=colorDic[pointLabels[i]], alpha=0.33)\n",
    "    \n",
    "x = group[:, 0]\n",
    "y = group[:, 1]\n",
    "\n",
    "plt.scatter(x, y)\n",
    "\n",
    "# margin for labels\n",
    "margin = 0.1\n",
    "# annotate each of the points\n",
    "for i, label in enumerate(labels):\n",
    "    plt.annotate(label, (x[i] - margin, y[i]))\n",
    "\n",
    "plt.show()"
   ]
  },
  {
   "cell_type": "markdown",
   "metadata": {},
   "source": [
    "## 예제 : 소개팅 사이트\n",
    "헬렌은 여태껏 소개팅 사이트로 1000명의 이성을 만났습니다(!). 하지만 헬렌은 그들 모두가 마음에 들지는 않았죠. 호감의 정도를 대충 3개의 카테고리로 나눌 수 있었습니다.\n",
    "\n",
    "1. 마음에 들지 않음 (didntLike)\n",
    "2. 조금 좋음 (smallDoses)\n",
    "3. 매우 좋음 (largeDoses)\n",
    "\n",
    "소개팅 사이트에서 제공되는 정보는 아니지만, 헬렌은 그 1000명에 대해서 상대를 판단하는데 중요하다고 생각되는 3개의 요소를 기록해 두었다고 합니다.\n",
    "\n",
    "1. 1년 간 얻는 항공 마일리지\n",
    "2. 비디오 게임을 하며 보내는 시간의 비율(%)\n",
    "3. 한 주에 먹는 아이스크림의 양(L)\n",
    "\n",
    "헬렌이 우리에게 부탁해왔습니다. \"이 정보들을 사용해서, 자기가 그 사람을 얼마나 좋아할지 예측해주는 프로그램을 만들어 주세요!\""
   ]
  },
  {
   "cell_type": "markdown",
   "metadata": {},
   "source": [
    "먼저, 데이터셋이 어떻게 생겼는지 알아봅시다."
   ]
  },
  {
   "cell_type": "code",
   "execution_count": 9,
   "metadata": {
    "collapsed": false
   },
   "outputs": [
    {
     "name": "stdout",
     "output_type": "stream",
     "text": [
      "['40920', '8.326976', '0.953952', 'largeDoses']\n",
      "['14488', '7.153469', '1.673904', 'smallDoses']\n",
      "['26052', '1.441871', '0.805124', 'didntLike']\n",
      "['75136', '13.147394', '0.428964', 'didntLike']\n",
      "['38344', '1.669788', '0.134296', 'didntLike']\n",
      "['72993', '10.141740', '1.032955', 'didntLike']\n",
      "['35948', '6.830792', '1.213192', 'largeDoses']\n",
      "['42666', '13.276369', '0.543880', 'largeDoses']\n",
      "['67497', '8.631577', '0.749278', 'didntLike']\n",
      "['35483', '12.273169', '1.508053', 'largeDoses']\n"
     ]
    }
   ],
   "source": [
    "with open(\"./datasets/datingTestSet.txt\") as data:\n",
    "    # show top 10 lines\n",
    "    for i in range(10):\n",
    "        print(data.readline().strip().split(\"\\t\"))"
   ]
  },
  {
   "cell_type": "markdown",
   "metadata": {},
   "source": [
    "데이터셋을 2d array와 label로 파싱합니다. (편의상 2d array를 matrix로 부르겠습니다.)"
   ]
  },
  {
   "cell_type": "code",
   "execution_count": 10,
   "metadata": {
    "collapsed": false
   },
   "outputs": [
    {
     "name": "stdout",
     "output_type": "stream",
     "text": [
      "[[  4.09200000e+04   8.32697600e+00   9.53952000e-01]\n",
      " [  1.44880000e+04   7.15346900e+00   1.67390400e+00]\n",
      " [  2.60520000e+04   1.44187100e+00   8.05124000e-01]]\n",
      "['largeDoses' 'smallDoses' 'didntLike']\n"
     ]
    }
   ],
   "source": [
    "def file2matrix(filePath):\n",
    "    matrix = []\n",
    "    labels = []\n",
    "    with open(filePath) as data:\n",
    "        for line in data.readlines():\n",
    "            # split each line with tab\n",
    "            tokens = line.strip().split(\"\\t\")\n",
    "            # append row to matrix (except last token (= label))\n",
    "            matrix.append([eval(t) for t in tokens[:-1]])\n",
    "            # append label to labels\n",
    "            labels.append(tokens[-1])\n",
    "        # END OF FOR - line\n",
    "    # END OF WITH - data\n",
    "\n",
    "    # convert to numpy 2darray\n",
    "    matrix = np.array(matrix)\n",
    "    labels = np.array(labels)\n",
    "    \n",
    "    return matrix, labels\n",
    "\n",
    "matrix, labels = file2matrix(\"./datasets/datingTestSet.txt\")\n",
    "\n",
    "print(matrix[:3, :])\n",
    "print(labels[:3])"
   ]
  },
  {
   "cell_type": "markdown",
   "metadata": {},
   "source": [
    "데이터셋이 어떻게 생겼는지 알아봅시다."
   ]
  },
  {
   "cell_type": "code",
   "execution_count": 11,
   "metadata": {
    "collapsed": false
   },
   "outputs": [
    {
     "data": {
      "image/png": "[encoded data removed]",
      "text/plain": [
       "<matplotlib.figure.Figure at 0x21559b03ef0>"
      ]
     },
     "metadata": {},
     "output_type": "display_data"
    }
   ],
   "source": [
    "def plotDataSet(x, y):\n",
    "    columns = [\"Frequent Flyer Miles Earned Per Year\" , \"Percentage of Time Spent Playing Video games\", \"Liters of Ice Cream Consumed per Week\"]\n",
    "    didntLikeMask = (labels == \"didntLike\")\n",
    "    smallDosesMask = (labels == \"smallDoses\")\n",
    "    largeDosesMask = (labels == \"largeDoses\")\n",
    "\n",
    "    # plot didn't like in red points\n",
    "    plt.scatter(matrix[didntLikeMask, x], matrix[didntLikeMask, y], color=\"red\")\n",
    "    # plot small doses in green points\n",
    "    plt.scatter(matrix[smallDosesMask, x], matrix[smallDosesMask, y], color=\"green\")\n",
    "    # plot large doses in blue points\n",
    "    plt.scatter(matrix[largeDosesMask, x], matrix[largeDosesMask, y], color=\"blue\")\n",
    "\n",
    "    plt.xlabel(columns[x])\n",
    "    plt.ylabel(columns[y])\n",
    "\n",
    "    plt.show()\n",
    "\n",
    "plotDataSet(0, 1)"
   ]
  },
  {
   "cell_type": "markdown",
   "metadata": {},
   "source": [
    "kNN을 실행하기 전에, 우리의 데이터셋에 kNN을 잘 적용하기 위해서 데이터셋을 normalize해야 합니다.\n",
    "<br/>matrix를 주면, normalize를 해주는 함수를 만들어 봅시다."
   ]
  },
  {
   "cell_type": "code",
   "execution_count": 12,
   "metadata": {
    "collapsed": true
   },
   "outputs": [],
   "source": [
    "def autoNorm(matrix):\n",
    "    # 각 열에 대해서(axis = 0), 최솟값, 최댓값을 구합니다.\n",
    "    minVals = matrix.min(axis=0)\n",
    "    maxVals = matrix.max(axis=0)\n",
    "    # 각 열에 대해서 최댓값과 최솟값의 차이를 구합니다.\n",
    "    ranges = maxVals - minVals\n",
    "    \n",
    "    # m : matrix의 행의 개수\n",
    "    m = matrix.shape[0]\n",
    "    \n",
    "    # (normalize된 값) = (원래 값 - 행의 최솟값) / (행의 최댓값 - 행의 최솟값)\n",
    "    normMatrix = matrix - np.tile(minVals, (m, 1))\n",
    "    normMatrix = matrix / np.tile(ranges, (m, 1))\n",
    "    \n",
    "    return normMatrix, ranges, minVals"
   ]
  },
  {
   "cell_type": "markdown",
   "metadata": {},
   "source": [
    "normalize 합니다."
   ]
  },
  {
   "cell_type": "code",
   "execution_count": 13,
   "metadata": {
    "collapsed": false
   },
   "outputs": [
    {
     "name": "stdout",
     "output_type": "stream",
     "text": [
      "[[ 0.44832535  0.39805139  0.56301579]\n",
      " [ 0.15873259  0.34195467  0.98792642]\n",
      " [ 0.28542943  0.06892523  0.47517855]]\n",
      "['largeDoses' 'smallDoses' 'didntLike']\n"
     ]
    }
   ],
   "source": [
    "normMatrix, ranges, minVals = autoNorm(matrix)\n",
    "\n",
    "print(normMatrix[:3, :])\n",
    "print(labels[:3])\n",
    "\n",
    "# 모든 값들이 0과 1 사이로 normalize된 것을 확인할 수 있습니다."
   ]
  },
  {
   "cell_type": "markdown",
   "metadata": {},
   "source": [
    "이제 우리의 kNN classifier가 얼마나 잘 작동하는지 알아봅시다."
   ]
  },
  {
   "cell_type": "code",
   "execution_count": 16,
   "metadata": {
    "collapsed": false
   },
   "outputs": [
    {
     "name": "stdout",
     "output_type": "stream",
     "text": [
      "0.05\n"
     ]
    }
   ],
   "source": [
    "def datingClassTest(k):\n",
    "    testRatio = 0.10 # 데이터셋 중 10%를 테스트셋으로 활용할 것입니다.\n",
    "    \n",
    "    # dataset을 파싱하고 normalize합니다.\n",
    "    matrix, labels = file2matrix(\"./datasets/datingTestSet.txt\")\n",
    "    normMatrix, ranges, minVals = autoNorm(matrix)\n",
    "    \n",
    "    dataSetSize = normMatrix.shape[0] # 데이터셋 행의 개수\n",
    "    testSetSize = int(testRatio * dataSetSize) # 테스트셋의 크기\n",
    "    \n",
    "    testMatrix = normMatrix[:testSetSize, :]  # 테스트 데이터\n",
    "    testLabels = labels[:testSetSize] # 테스트 라벨\n",
    "    \n",
    "    trainingMatrix = normMatrix[testSetSize:, :] # 트레이닝 데이터\n",
    "    trainingLabels = labels[testSetSize:] # 트레이닝 라벨\n",
    "    \n",
    "    # 몇 개가 틀렸나?\n",
    "    errorCount = 0\n",
    "    \n",
    "    for i in range(testSetSize):\n",
    "        if labels[i] != classify0(testMatrix[i, :], trainingMatrix, trainingLabels, k):\n",
    "            errorCount += 1\n",
    "    \n",
    "    return errorCount / testSetSize\n",
    "\n",
    "print(datingClassTest(3))"
   ]
  },
  {
   "cell_type": "markdown",
   "metadata": {},
   "source": [
    "5%의 error rate를 보이는군요! 100명 중 95명을 정확히 분류했습니다. 대단합니다!"
   ]
  },
  {
   "cell_type": "markdown",
   "metadata": {},
   "source": [
    "저번 이론 수업을 기억하시나요? k값을 변화시켜가면서 error rate이 어떻게 변하는지 알아봅시다."
   ]
  },
  {
   "cell_type": "code",
   "execution_count": 17,
   "metadata": {
    "collapsed": false
   },
   "outputs": [
    {
     "data": {
      "image/png": "[encoded data removed]",
      "text/plain": [
       "<matplotlib.figure.Figure at 0x2155a9059b0>"
      ]
     },
     "metadata": {},
     "output_type": "display_data"
    }
   ],
   "source": [
    "maxRange = 300 # DO NOT CHANGE THIS\n",
    "\n",
    "errorRates = [datingClassTest(k) for k in range(1, maxRange)]\n",
    "\n",
    "plt.plot(range(1, maxRange), errorRates)\n",
    "plt.xlabel(\"k\")\n",
    "plt.ylabel(\"Error Rate\")\n",
    "plt.show()"
   ]
  },
  {
   "cell_type": "markdown",
   "metadata": {},
   "source": [
    "## 예제 : 손글씨 인식\n",
    "kNN으로 손글씨 숫자를 인식해봅시다!"
   ]
  },
  {
   "cell_type": "markdown",
   "metadata": {},
   "source": [
    "데이터셋은 0 또는 1의 숫자로 이루어진 32 x 32 텍스트 파일들로 주어집니다. 각각의 파일을 읽어들여서, 벡터로 바꾸어주는 함수를 만들어봅시다."
   ]
  },
  {
   "cell_type": "code",
   "execution_count": 18,
   "metadata": {
    "collapsed": false
   },
   "outputs": [
    {
     "name": "stdout",
     "output_type": "stream",
     "text": [
      "[[ 0.  0.  0. ...,  0.  0.  0.]]\n"
     ]
    }
   ],
   "source": [
    "def img2vector(filePath):\n",
    "    returnVector =np. zeros((1, 1024))\n",
    "    \n",
    "    # store 0s/1s in 1*1024 numpy array\n",
    "    with open(filePath, \"r\") as f:\n",
    "        for i in range(32):\n",
    "            line = f.readline()\n",
    "            for j in range(32):\n",
    "                returnVector[0, 32*i + j] = int(line[j])\n",
    "            # END OF FOR - j\n",
    "        # END OF FOR - i\n",
    "    \n",
    "    return returnVector\n",
    "\n",
    "testVector = img2vector(\"./datasets/digits/testDigits/0_13.txt\")\n",
    "print(testVector)"
   ]
  },
  {
   "cell_type": "markdown",
   "metadata": {},
   "source": [
    "디렉토리 안의 파일을 순회하기 위해서 os 모듈의 listdir 메소드를 사용합니다. <br/>\n",
    "각각의 파일은 <써진 숫자>_<#>.txt 로 주어집니다. <br/>\n",
    "이제 kNN으로 손글씨를 얼마나 잘 인식할 수 있는지 확인해봅시다."
   ]
  },
  {
   "cell_type": "code",
   "execution_count": 19,
   "metadata": {
    "collapsed": false
   },
   "outputs": [
    {
     "name": "stdout",
     "output_type": "stream",
     "text": [
      "0.011627906976744186\n"
     ]
    }
   ],
   "source": [
    "from os import listdir\n",
    "\n",
    "def handwritingClassTest(k):\n",
    "    ROOT_PATH = \"./datasets/digits/\"\n",
    "    trainingLabels = []\n",
    "    trainingFileList = listdir(ROOT_PATH + \"trainingDigits\")\n",
    "    trainingSetSize = len(trainingFileList) # how many digits to train?\n",
    "    \n",
    "    trainingMatrix = np.zeros((trainingSetSize, 1024))\n",
    "    \n",
    "    for i in range(trainingSetSize):\n",
    "        fileNameStr = trainingFileList[i]\n",
    "        fileStr = fileNameStr.split(\".\")[0] # .txt를 뗍니다\n",
    "        classNumStr = int(fileStr.split(\"_\")[0]) # _를 기준으로 잘라서, 써진 숫자가 무엇인지 알아냅니다.\n",
    "        \n",
    "        trainingLabels.append(classNumStr)\n",
    "        \n",
    "        trainingMatrix[i, :] = img2vector(ROOT_PATH + \"trainingDigits/%s\" % fileNameStr)\n",
    "    # END OF FOR - i\n",
    "    \n",
    "    testFileList = listdir(ROOT_PATH + \"testDIgits\")\n",
    "    errorCount = 0 # how many errors?\n",
    "    testSetSize = len(testFileList) # how many digits to test?\n",
    "    \n",
    "    for i in range(testSetSize):\n",
    "        fileNameStr = testFileList[i]\n",
    "        fileStr = fileNameStr.split(\".\")[0] # .txt를 뗍니다\n",
    "        classNumStr = int(fileStr.split(\"_\")[0]) # _를 기준으로 잘라서, 써진 숫자가 무엇인지 알아냅니다.\n",
    "        \n",
    "        if classNumStr != classify0(img2vector(ROOT_PATH + \"testDigits/%s\" % fileNameStr), trainingMatrix, trainingLabels, k):\n",
    "            errorCount += 1\n",
    "    # END OF FOR - i\n",
    "    \n",
    "    return errorCount / testSetSize\n",
    "\n",
    "print(handwritingClassTest(3))\n",
    "        "
   ]
  },
  {
   "cell_type": "markdown",
   "metadata": {},
   "source": [
    "1.2% 정도의 error rate를 얻었습니다. 1000개의 손글씨 숫자 중 988개를 맞춘다는 것이군요!"
   ]
  },
  {
   "cell_type": "markdown",
   "metadata": {},
   "source": [
    "k를 변화시켜가면서 error rate의 변화를 알아봅시다. k = 3일때 최소가 되는군요."
   ]
  },
  {
   "cell_type": "markdown",
   "metadata": {},
   "source": [
    "<img src=\"./img/2_1.png\"></img>"
   ]
  },
  {
   "cell_type": "markdown",
   "metadata": {},
   "source": [
    "## 실습 1: Iris Dataset\n",
    "<a href=\"./datasets/iris-train.txt\" download>Training set 다운로드</a> (우클릭 후 다른이름으로 저장 하시면 됩니다.)<br/>\n",
    "<a href=\"./datasets/iris-test.txt\", download> Test set 다운로드</a> (편의상, training set과 test set을 나누어 놓았습니다.)<br/>\n",
    "\n",
    "Iris Dataset은 multi-class classification문제에서 아주 기초가 되는 데이터셋입니다.\n",
    "\n",
    "이 데이터셋은 iris의 sepal의 길이와 너비, petal의 길이와 너비를 측정해 놓은 데이터셋입니다.\n",
    "\n",
    "class는 \n",
    "1. Iris Setosa \n",
    "2. Iris Versicolour \n",
    "3. Iris Virginica\n",
    "\n",
    "의 총 3개이며, 각각은 iris의 종을 나타냅니다.\n",
    "\n",
    "4개의 열 각각은\n",
    "1. sepal length in cm \n",
    "2. sepal width in cm \n",
    "3. petal length in cm \n",
    "4. petal width in cm\n",
    "\n",
    "을 나타냅니다.\n",
    "\n",
    "제공된 test set에 대해서 kNN을 적용시켜 보고, k값이 변함에 따라서 error rate이 어떻게 변하는지 알아봅시다."
   ]
  },
  {
   "cell_type": "markdown",
   "metadata": {},
   "source": [
    "## 실습 2: Yeast Dataset\n",
    "<a href=\"./datasets/yeast-train.txt\" download>Training set 다운로드</a> (우클릭 후 다른이름으로 저장 하시면 됩니다.)<br/>\n",
    "<a href=\"./datasets/yeast-test.txt\", download> Test set 다운로드</a> (편의상, training set과 test set을 나누어 놓았습니다.)<br/>\n",
    "\n",
    "위의 데이터는 yeast에서 각 protein의 feature를 추출하여 수치화해놓은 데이터입니다.<br/>\n",
    "1~8열은 각각 아래와 같은 feature의 수치를 나타낸 것이라고 하네요. <br/>\n",
    "1. mcg: McGeoch's method for signal sequence recognition. \n",
    "2. gvh: von Heijne's method for signal sequence recognition. \n",
    "3. alm: Score of the ALOM membrane spanning region prediction program. \n",
    "4. mit: Score of discriminant analysis of the amino acid content of the N-terminal region (20 residues long) of mitochondrial and non-mitochondrial proteins. \n",
    "5. erl: Presence of \"HDEL\" substring (thought to act as a signal for retention in the endoplasmic reticulum lumen). Binary attribute. \n",
    "6. pox: Peroxisomal targeting signal in the C-terminus. \n",
    "7. vac: Score of discriminant analysis of the amino acid content of vacuolar and extracellular proteins. \n",
    "8. nuc: Score of discriminant analysis of nuclear localization signals of nuclear and non-nuclear proteins.\n",
    "\n",
    "아무튼, 이러한 data와 kNN을 가지고 마지막 열에 제시된 <b>단백질의 localization site</b>를 예측하는 것이 목표입니다.\n",
    "\n",
    "바로 코딩을 하기보다는, 파일을 열어 데이터를 들여다 보면서 어떻게 데이터를 다루어야 할지 생각해 보신 뒤에\n",
    "\n",
    "Test set에 대해서 kNN을 적용시켜 보세요! 만약 성능이 좋지 못하다면, 그 이유를 생각해봅시다!\n"
   ]
  }
 ],
 "metadata": {
  "kernelspec": {
   "display_name": "Python 3",
   "language": "python",
   "name": "python3"
  },
  "language_info": {
   "codemirror_mode": {
    "name": "ipython",
    "version": 3
   },
   "file_extension": ".py",
   "mimetype": "text/x-python",
   "name": "python",
   "nbconvert_exporter": "python",
   "pygments_lexer": "ipython3",
   "version": "3.5.1"
  }
 },
 "nbformat": 4,
 "nbformat_minor": 0
}
