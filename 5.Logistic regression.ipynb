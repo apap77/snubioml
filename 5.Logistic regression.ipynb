{
 "cells": [
  {
   "cell_type": "markdown",
   "metadata": {},
   "source": [
    "# Logistic Regression\n",
    "\n",
    "이번 실습 시간에는 로지스틱 회귀에 대해 알아봅시다.\n",
    "\n",
    "저저번주 이론 시간에, y의 값 자체를 추정하는 선형회귀와는 달리 로지스틱 회귀는 y의 값의 확률을 추정한다고 공부해보았습니다.\n",
    "\n",
    "이번 시간에는 실제로 로지스틱 회귀 모형을 얻어내는 알고리즘을 구현해 볼 것입니다. "
   ]
  },
  {
   "cell_type": "markdown",
   "metadata": {},
   "source": [
    "## Sigmoid 함수\n",
    "\n",
    "이론 시간에 배운 로지스틱 함수는 아래와 같았습니다.\n",
    "\n",
    "\\begin{equation*}\n",
    "p(X) = \\frac{e^{\\beta_0+\\beta_1X}}{1 + e^{\\beta_0+\\beta_1X}}\n",
    "\\end{equation*}\n",
    "\n",
    "이번 시간에는 조금 특별한 형태의 로지스틱 함수인 <b>Sigmoid 함수</b>를 로지스틱 회귀에 사용할 것입니다.\n",
    "\n",
    "Sigmoid 함수는 아래와 같습니다.\n",
    "\n",
    "\\begin{equation*}\n",
    "p(X) = \\frac{1}{1 + e^{-z}}\n",
    "\\end{equation*}\n",
    "\n",
    "어떻게 생겼는지 그려 볼까요?"
   ]
  },
  {
   "cell_type": "code",
   "execution_count": 1,
   "metadata": {
    "collapsed": false
   },
   "outputs": [],
   "source": [
    "%matplotlib inline\n",
    "\n",
    "import matplotlib.pyplot as plt\n",
    "import numpy as np"
   ]
  },
  {
   "cell_type": "code",
   "execution_count": 2,
   "metadata": {
    "collapsed": false
   },
   "outputs": [
    {
     "data": {
      "image/png": "[encoded data removed]",
      "text/plain": [
       "<matplotlib.figure.Figure at 0x1f63a973710>"
      ]
     },
     "metadata": {},
     "output_type": "display_data"
    }
   ],
   "source": [
    "def sigmoid(z):\n",
    "    return 1 / (1 + np.exp(-z))\n",
    "\n",
    "x = np.linspace(-5, 5, 100)  # x range -5 ~ 5\n",
    "y = sigmoid(x)\n",
    "\n",
    "plt.plot(x, y)\n",
    "plt.show()"
   ]
  },
  {
   "cell_type": "markdown",
   "metadata": {},
   "source": [
    "x의 범위를 조금 넓혀봅시다."
   ]
  },
  {
   "cell_type": "code",
   "execution_count": 3,
   "metadata": {
    "collapsed": false
   },
   "outputs": [
    {
     "data": {
      "image/png": "[encoded data removed]",
      "text/plain": [
       "<matplotlib.figure.Figure at 0x1f63abf7470>"
      ]
     },
     "metadata": {},
     "output_type": "display_data"
    }
   ],
   "source": [
    "x = np.linspace(-50, 50, 500)\n",
    "y = sigmoid(x)\n",
    "\n",
    "plt.plot(x, y)\n",
    "plt.show()"
   ]
  },
  {
   "cell_type": "markdown",
   "metadata": {},
   "source": [
    "그래프를 보니 다음과 같은 사실을 알 수 있습니다.\n",
    "\n",
    "<b>Sigmoid 함수는 z가 0보다 작을 때는 0에 가까이, 0보다 클때는 1에 가까이 가며, z가 0일 때는 0.5의 값을 갖는다.</b>\n",
    "\n",
    "한 가지 생각해봅시다. x가 음수일때 0, 양수일때 1을 갖는 계단 함수와 비교하였을 때, sigmoid함수가 갖는 장점이 뭘까요?"
   ]
  },
  {
   "cell_type": "markdown",
   "metadata": {},
   "source": [
    "## Gradient descent\n",
    "\n",
    "### 목표\n",
    "\n",
    "다시 sigmoid 함수를 쳐다봅시다.\n",
    "\n",
    "\\begin{equation*}\n",
    "p(X) = \\frac{1}{1 + e^{-z}}\n",
    "\\end{equation*}\n",
    "\n",
    "우리는 저 $ z $를 가지고 로지스틱 회귀를 해야 합니다. 즉,\n",
    "\n",
    "\\begin{equation*}\n",
    "z = w_0x_0 + w_1x_1 + w_2x_2 + ... + w_nx_n\n",
    "\\end{equation*}\n",
    "\n",
    "을 대입할 것입니다. 여기서 $ \\mathbf{w} = (w_0, w_1, w_2, ... w_n) $으로 weight vector를 의미하며 $ \\mathbf{x} = (x_0, x_1, x_2, ..., x_n) $으로 feature vector를 의미합니다.\n",
    "\n",
    "다시 쓰면,\n",
    "\n",
    "\\begin{equation*}\n",
    "z = \\mathbf{w^T}\\mathbf{x}\n",
    "\\end{equation*}\n",
    "\n",
    "이 됩니다. 위 식은 앞으로 자주 보게 될 식이니 익숙해지면 좋습니다.\n",
    "\n",
    "즉 우리의 데이터셋을 가지고 가장 적절한 $ \\mathbf{w} $를 찾는 것이 우리의 목표입니다.\n",
    "\n",
    "<b>가장 적절한</b> $ \\mathbf{w} $은 무엇일까요? 바로 우리의 모델이 예측한 값과 실제 값이 가장 비슷하도록 하는 $ \\mathbf{w} $입니다.\n",
    "\n",
    "다시 말해 예측 값과 실제 값 사이의 <b>error가 가장 작도록</b> 하는 $ \\mathbf{w} $를 말합니다.\n",
    "\n",
    "### 방법\n",
    "\n",
    "이변수 함수 $ f(x, y) $의 gradient는 다음과 같이 쓸 수 있습니다.\n",
    "\n",
    "\\begin{equation*}\n",
    "\\nabla f(x, y) = (\\begin{array}{c} \\frac{\\partial f(x, y)}{\\partial x} \\\\ \\frac{\\partial f(x, y)}{\\partial y} \\end{array})\n",
    "\\end{equation*}\n",
    "\n",
    "이 벡터의 방향은 (x, y)에서 스칼라값 f(x, y)가 가장 빨리 증가하는 방향이며, 180도 반대 방향은 가장 빨리 감소하는 방향입니다.\n",
    "\n",
    "이제 x와 y를 $ \\mathbf{w} $로 생각하고, $ f(\\mathbf{w}) $의 값이 error를 나타낸다고 생각합시다.\n",
    "\n",
    "임의의 점 $ \\mathbf{w'} $에서 출발하여, 항상 $ f(\\mathbf{w'}) $의 값이 가장 빨리 감소하는 방향, 즉 error가 가장 빨리 감소하는 방향으로 한 발짝씩 이동하다보면, 언젠가는 최솟값에 도달할 수 있을까요?\n",
    "\n",
    "이러한 optimization 알고리즘을 Gradient Descent 알고리즘이라고 합니다. 즉, 일정한 상수 $ \\alpha $를 설정하고,\n",
    "\n",
    "\\begin{equation*}\n",
    "\\mathbf{w} := \\mathbf{w} - \\alpha\\nabla_w f(\\mathbf{w})\n",
    "\\end{equation*}\n",
    "\n",
    "를 반복하여 수행하다 보면 error를 최소화하는 지점에 도달할 수 있을 것이라는 아이디어입니다.\n",
    "\n",
    "실제로 코딩을 해봅시다. 간단한 데이터셋을 불러오는 함수 <b>loadDataSet()</b>을 작성합시다."
   ]
  },
  {
   "cell_type": "code",
   "execution_count": 4,
   "metadata": {
    "collapsed": true
   },
   "outputs": [],
   "source": [
    "def loadDataSet():\n",
    "    dataMat = []\n",
    "    labelMat = []\n",
    "    \n",
    "    with open(\"./datasets/chapter5_testset.txt\", 'r') as f:\n",
    "        for line in f.readlines():\n",
    "            tokens = line.strip().split(\"\\t\")\n",
    "            dataMat.append([1.0, float(tokens[0]), float(tokens[1])]) # prepended 1.0 to represent biases\n",
    "            labelMat.append(int(tokens[2]))\n",
    "    \n",
    "    return np.array(dataMat).T, np.array(labelMat)"
   ]
  },
  {
   "cell_type": "markdown",
   "metadata": {},
   "source": [
    "어떻게 생긴 데이터셋일까요?"
   ]
  },
  {
   "cell_type": "code",
   "execution_count": 5,
   "metadata": {
    "collapsed": false
   },
   "outputs": [
    {
     "data": {
      "image/png": "[encoded data removed]",
      "text/plain": [
       "<matplotlib.figure.Figure at 0x1f63acb2ac8>"
      ]
     },
     "metadata": {},
     "output_type": "display_data"
    }
   ],
   "source": [
    "def plotDataSet(dataMat, labelMat):\n",
    "    dataMatX0 = dataMat[1, labelMat == 0]\n",
    "    dataMatY0 = dataMat[2, labelMat == 0]\n",
    "    \n",
    "    dataMatX1 = dataMat[1, labelMat == 1]\n",
    "    dataMatY1 = dataMat[2, labelMat == 1]\n",
    "    \n",
    "    plt.plot(dataMatX0, dataMatY0, 'bo')  # blue dots\n",
    "    plt.plot(dataMatX1, dataMatY1, 'ro')  # red dots\n",
    "    plt.show()\n",
    "\n",
    "dataMat, labelMat = loadDataSet()\n",
    "plotDataSet(dataMat, labelMat)"
   ]
  },
  {
   "cell_type": "markdown",
   "metadata": {},
   "source": [
    "로지스틱 회귀 모델을 위의 데이터로 train 하여 볼 것입니다.\n",
    "\n",
    "Pseudocode는 아래와 같습니다.\n",
    "\n",
    "### Pseudocode\n",
    "\n",
    "모든 weight들을 1로 초기화한다.\n",
    "\n",
    "R회 반복:\n",
    "\n",
    "    현재 weight 값에 대한 gradient를 계산한다.\n",
    "\n",
    "    weight를 업데이트한다. (w := w - alpha * gradient)\n",
    "        \n",
    "weight vector를 return한다.\n",
    "\n",
    "\n",
    "\n",
    "이제 직접 코딩해봅시다."
   ]
  },
  {
   "cell_type": "code",
   "execution_count": 6,
   "metadata": {
    "collapsed": false
   },
   "outputs": [
    {
     "name": "stdout",
     "output_type": "stream",
     "text": [
      "Iteration 0: error 0.55\n",
      "Iteration 100: error 0.52\n",
      "Iteration 200: error 0.10\n",
      "Iteration 300: error 0.09\n",
      "Iteration 400: error 0.08\n",
      "[[ 2.43985932]\n",
      " [ 0.32473241]\n",
      " [-0.37937044]]\n"
     ]
    }
   ],
   "source": [
    "def gradientDescent(x, y, alpha=0.001, maxIteration=500, printStep=100):\n",
    "    rowCount, colCount = x.shape\n",
    "    \n",
    "    weights = np.ones((rowCount, 1))  # initialize all weights to 1\n",
    "    \n",
    "    for k in range(maxIteration):\n",
    "        # compute gradient\n",
    "        z = weights.T.dot(x)\n",
    "        yHat = sigmoid(z)\n",
    "        gradient = x.dot((-2 * (y - yHat) * yHat * (1 - yHat)).T)  # Think about this line\n",
    "        # update weights\n",
    "        weights = weights - alpha * gradient\n",
    "        \n",
    "        if k % printStep == 0:\n",
    "            error = np.mean(np.square(y-yHat))\n",
    "            print(\"Iteration %d: error %.2f\" % (k, error))\n",
    "    \n",
    "    return weights\n",
    "\n",
    "dataMat, labelMat = loadDataSet()\n",
    "weights = gradientDescent(dataMat, labelMat)\n",
    "\n",
    "print(weights)"
   ]
  },
  {
   "cell_type": "markdown",
   "metadata": {},
   "source": [
    "이 weight이 우리의 데이터셋을 잘 분류해주는지 확인해봅시다."
   ]
  },
  {
   "cell_type": "code",
   "execution_count": 7,
   "metadata": {
    "collapsed": false
   },
   "outputs": [
    {
     "data": {
      "image/png": "[encoded data removed]",
      "text/plain": [
       "<matplotlib.figure.Figure at 0x1f63ad31f60>"
      ]
     },
     "metadata": {},
     "output_type": "display_data"
    }
   ],
   "source": [
    "def plotBestFit(w):\n",
    "    dataMat, labelMat = loadDataSet()\n",
    "    dataArr = np.array(dataMat)\n",
    "    \n",
    "    dataMatX0 = dataMat[1, labelMat == 0]\n",
    "    dataMatY0 = dataMat[2, labelMat == 0]\n",
    "    dataMatX1 = dataMat[1, labelMat == 1]\n",
    "    dataMatY1 = dataMat[2, labelMat == 1]\n",
    "    \n",
    "    plt.plot(dataMatX0, dataMatY0, 'bo')  # blue dots\n",
    "    plt.plot(dataMatX1, dataMatY1, 'ro')  # red dots\n",
    "    \n",
    "    # draw line\n",
    "    x = np.arange(-3.0, 3.0, 0.1)\n",
    "    y = (-weights[0] - weights[1] * x) / weights[2] # probability == 0.5 on this line\n",
    "    plt.plot(x, y)\n",
    "    plt.show()\n",
    "\n",
    "plotBestFit(weights)"
   ]
  },
  {
   "cell_type": "markdown",
   "metadata": {},
   "source": [
    "## Stochastic Gradient Descent\n",
    "\n",
    "위의 예에서는 데이터셋 안의 모든 데이터에 대해서 한번에 gradient를 계산하여 합쳤습니다. 이러한 방법을 <b>batch</b> gradient descent라고 합니다.\n",
    "\n",
    "하지만 데이터셋의 크기가 매우 커지면 위의 방법을 iteration 한 번 한 번이 매우 느려지게 되어 비효율적입니다.\n",
    "\n",
    "저렇게 전체 데이터셋을 한번에 고려하지 말고 각각의 반복에서 데이터셋의 일부만을 뽑아서 학습시킬 수는 없을까요?\n",
    "\n",
    "이러한 아이디어에서 출발한 알고리즘을 <b>stochastic</b> gradient descent라고 합니다.\n",
    "\n",
    "Stochastic gradient descent의 pseudocode는 아래와 같습니다.\n",
    "\n",
    "### Pseudocode\n",
    "\n",
    "모든 weight들을 1로 초기화한다.\n",
    "\n",
    "데이터셋의 일부를 뽑아 만든 각각의 작은 데이터셋들에 대해서:\n",
    "\n",
    "    각각의 데이터셋에서 gradient를 계산한다.\n",
    "    \n",
    "    weight를 업데이트한다. (w := w - alpha * gradient)\n",
    "\n",
    "weight vector를 return한다.\n",
    "\n",
    "직접 코딩해봅시다. 작성할 함수 <b>stochasticGradientDescent()</b>는 매 반복마다 한 개의 데이터를 뽑아 error의 gradient를 구하여 weight를 update합니다."
   ]
  },
  {
   "cell_type": "code",
   "execution_count": 8,
   "metadata": {
    "collapsed": false
   },
   "outputs": [
    {
     "name": "stdout",
     "output_type": "stream",
     "text": [
      "[[ 5.94827494]\n",
      " [ 0.7000902 ]\n",
      " [-0.86038205]]\n"
     ]
    },
    {
     "data": {
      "image/png": "[encoded data removed]",
      "text/plain": [
       "<matplotlib.figure.Figure at 0x1f63ad937b8>"
      ]
     },
     "metadata": {},
     "output_type": "display_data"
    }
   ],
   "source": [
    "def stochasticGradientDescent0(x, y, alpha=0.01, maxIteration=500):\n",
    "    rowCount, colCount = x.shape\n",
    "    \n",
    "    weights = np.ones((rowCount, 1))  # initialize all weights to 1\n",
    "    \n",
    "    for _ in range(maxIteration):\n",
    "        for i in range(colCount):  # each column represents a data\n",
    "            data = x[:, i].reshape((rowCount, 1))  # make data a column vector\n",
    "\n",
    "            # compute gradient\n",
    "            z = weights.T.dot(data)\n",
    "            yHat = sigmoid(z)\n",
    "            gradient = -2 *  (y[i] - yHat) * yHat * (1 - yHat) * data  # Think about this line\n",
    "            # update weights\n",
    "            weights = weights - alpha * gradient\n",
    "    \n",
    "    return weights\n",
    "\n",
    "dataMat, labelMat = loadDataSet()\n",
    "weights = stochasticGradientDescent0(dataMat, labelMat)\n",
    "print(weights)\n",
    "\n",
    "plotBestFit(weights)"
   ]
  },
  {
   "cell_type": "markdown",
   "metadata": {},
   "source": [
    "위의 함수를 maxIteration 값을 바꿔가면서 실행시켜서 어떤 결과가 나오는지 확인해보세요. (maxIteration = 10, 100, 1000, 1000)\n",
    "\n",
    "Weight값들이 언제 적절한 값에 수렴하는 것일까요? 확인해보면 아래의 그림과 같습니다.\n",
    "\n",
    "<img src=\"./img/5_1.png\"></img>\n",
    "\n",
    "꽤나 많은 반복 후에야 수렴한다는 것을 알 수 있습니다.\n",
    "\n",
    "이를 개선하기 위해서 우리의 <b>stochasticGradientDescent0</b> 함수에 두 가지 수정을 가한 <b>stochasticGradientDescent1</b>를 작성합시다.\n",
    "\n",
    "1. 첫째로 alpha의 값을 시간이 지남에 따라 점점 작게 만들 것입니다.\n",
    "\n",
    "2. 두 번째는 데이터셋에서 데이터를 순서대로 고르는 것이 아니라, 무작위로 고를 것입니다."
   ]
  },
  {
   "cell_type": "code",
   "execution_count": 9,
   "metadata": {
    "collapsed": false
   },
   "outputs": [
    {
     "data": {
      "image/png": "[encoded data removed]",
      "text/plain": [
       "<matplotlib.figure.Figure at 0x1f63ad90630>"
      ]
     },
     "metadata": {},
     "output_type": "display_data"
    }
   ],
   "source": [
    "def stochasticGradientDescent1(x, y, alpha=0.01, maxIteration=100):\n",
    "    rowCount, colCount = x.shape\n",
    "    \n",
    "    weights = np.ones((rowCount, 1))  # initialize all weights to 1\n",
    "    \n",
    "    for j in range(maxIteration):\n",
    "        dataIndex = list(range(colCount))\n",
    "        for i in range(colCount):                     # each column represents a data\n",
    "            # adjust alpha\n",
    "            alpha = 4 / (1.0 + j + i) + 0.01\n",
    "            # pick random data\n",
    "            randIndex = int(np.random.uniform(0, len(dataIndex)))\n",
    "            data = x[:, randIndex].reshape((rowCount, 1))\n",
    "            # compute gradient\n",
    "            z = weights.T.dot(data)\n",
    "            yHat = sigmoid(z)\n",
    "            gradient = -2 *  (y[randIndex] - yHat) * yHat * (1 - yHat) * data  # Think about this line\n",
    "            # update weights\n",
    "            weights = weights - alpha * gradient\n",
    "            # remove used index from index list\n",
    "            del(dataIndex[randIndex])\n",
    "    \n",
    "    return weights\n",
    "\n",
    "dataMat, labelMat = loadDataSet()\n",
    "weights = stochasticGradientDescent1(dataMat, labelMat, maxIteration=50)\n",
    "\n",
    "plotBestFit(weights)"
   ]
  },
  {
   "cell_type": "code",
   "execution_count": 10,
   "metadata": {
    "collapsed": false
   },
   "outputs": [
    {
     "data": {
      "image/png": "[encoded data removed]",
      "text/plain": [
       "<matplotlib.figure.Figure at 0x1f63abc1f28>"
      ]
     },
     "metadata": {},
     "output_type": "display_data"
    }
   ],
   "source": [
    "dataMat, labelMat = loadDataSet()\n",
    "weights = stochasticGradientDescent0(dataMat, labelMat, maxIteration=50)\n",
    "\n",
    "plotBestFit(weights)"
   ]
  },
  {
   "cell_type": "markdown",
   "metadata": {},
   "source": [
    "## 실습 : Parkinson's disease\n",
    "\n",
    "<a href=\"./datasets/parkinson.txt\">데이터셋 다운로드</a>\n",
    "\n",
    "이 데이터셋은 총 31명의 사람들의 목소리를 여러번 녹음하여, 그로부터 아래와 같은 feature들을 추출한 데이터셋입니다.\n",
    "\n",
    "(총 22개의 feature)\n",
    "\n",
    "(parkinson's disease 환자 23명, 건강한 사람 8명)\n",
    "\n",
    "1. MDVP:Fo(Hz) - Average vocal fundamental frequency \n",
    "2. MDVP:Fhi(Hz) - Maximum vocal fundamental frequency \n",
    "3. MDVP:Flo(Hz) - Minimum vocal fundamental frequency \n",
    "4. MDVP:Jitter(%),MDVP:Jitter(Abs),MDVP:RAP,MDVP:PPQ,Jitter:DDP - Several measures of variation in fundamental frequency \n",
    "5. MDVP:Shimmer,MDVP:Shimmer(dB),Shimmer:APQ3,Shimmer:APQ5,MDVP:APQ,Shimmer:DDA - Several measures of variation in amplitude \n",
    "6. NHR,HNR - Two measures of ratio of noise to tonal components in the voice \n",
    "7. RPDE,D2 - Two nonlinear dynamical complexity measures \n",
    "8. DFA - Signal fractal scaling exponent \n",
    "9. spread1,spread2,PPE - Three nonlinear measures of fundamental frequency variation \n",
    "10. status - Health status of the subject (one) - Parkinson's, (zero) - healthy \n",
    "\n",
    "우리의 목표는 이 목소리의 feature들을 이용하여 건강한 사람의 목소리가 무엇인지 가려내는 것입니다.\n",
    "\n",
    "1. 로지스틱 회귀 모델로부터 class를 분류하는 함수를 작성해 봅시다.\n",
    "\n",
    "2. 이번 주 이론 시간에 배운 Cross-validation을 이용하여, 모델의 정확도를 계산해 봅시다. (10-fold CV를 이용하세요.)"
   ]
  }
 ],
 "metadata": {
  "kernelspec": {
   "display_name": "Python 3",
   "language": "python",
   "name": "python3"
  },
  "language_info": {
   "codemirror_mode": {
    "name": "ipython",
    "version": 3
   },
   "file_extension": ".py",
   "mimetype": "text/x-python",
   "name": "python",
   "nbconvert_exporter": "python",
   "pygments_lexer": "ipython3",
   "version": "3.5.1"
  }
 },
 "nbformat": 4,
 "nbformat_minor": 0
}
